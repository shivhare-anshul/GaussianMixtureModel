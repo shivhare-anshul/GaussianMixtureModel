{
 "cells": [
  {
   "cell_type": "markdown",
   "metadata": {},
   "source": [
    "### Import Libraries"
   ]
  },
  {
   "cell_type": "code",
   "execution_count": 1,
   "metadata": {},
   "outputs": [],
   "source": [
    "import re\n",
    "import time\n",
    "import random\n",
    "import imageio\n",
    "import numpy as np\n",
    "import matplotlib.pyplot as plt\n",
    "from collections import Counter\n",
    "from matplotlib.figure import Figure\n",
    "from sklearn.decomposition import PCA\n",
    "from scipy.stats import multivariate_normal\n",
    "from matplotlib.backends.backend_agg import FigureCanvasAgg as FigureCanvas\n",
    "import glob\n",
    "import librosa"
   ]
  },
  {
   "cell_type": "markdown",
   "metadata": {},
   "source": [
    "### Feature Extraction"
   ]
  },
  {
   "cell_type": "code",
   "execution_count": 2,
   "metadata": {},
   "outputs": [],
   "source": [
    "# DFT matrix to caluclate 64 point DFT from a 400-D signal\n",
    "K, N = 64, 400\n",
    "F = np.zeros((K,N), np.complex64)\n",
    "\n",
    "for k in range(K):\n",
    "    for n in range(N):\n",
    "        F[k,n] =  np.exp(-2j *k * n * np.pi/N)\n",
    "\n",
    "\n",
    "\n",
    "\n",
    "def spectrogram(x, win_len=400, hop_len=160, n_fft=256):\n",
    "    '''\n",
    "    spectrogram\n",
    "    \n",
    "    Inputs\n",
    "    ------\n",
    "    x: shape(N_f, ) - raw signal\n",
    "    win_len: int - window length in frames\n",
    "    hop_len: int - hop length in frames\n",
    "    n_fft: int - number of fft points\n",
    "    \n",
    "    Returns\n",
    "    -------\n",
    "    xf: shape(N_f, 128) - spectrogram\n",
    "    '''\n",
    "    # calculate number of frames\n",
    "    n_frames = 1 + np.int(np.floor((len(x) - win_len) / float(hop_len)))\n",
    "    xf = np.zeros((n_frames, K), np.complex64)\n",
    "    # perform sliding window operation\n",
    "    for i in range(n_frames):\n",
    "        z = x[i * hop_len: i * hop_len + win_len] * np.hamming(win_len)\n",
    "        z2 = F @ z\n",
    "        \n",
    "        xf[i] = z2\n",
    "    # obtain log of the absolute values of the features\n",
    "    xf = np.log(np.abs(xf[:, :K // 2])+1e-8)                     \n",
    "    return xf\n",
    "\n",
    "\n",
    "def get_spec_frames(data_path):\n",
    "    '''\n",
    "    data_path: path to the .wav files\n",
    "\n",
    "    returns\n",
    "    -----\n",
    "    frames: shape(*,32) ---> each row is a feature vector\n",
    "    '''\n",
    "    path = data_path\n",
    "    dir_list  = glob.glob(data_path + '/*.wav')\n",
    "    #print(len(dir_list))\n",
    "\n",
    "    frames = []\n",
    "\n",
    "    for i in range(len(dir_list)):\n",
    "        y,fs = librosa.load(dir_list[i],sr = None)\n",
    "        y_spec = spectrogram(y)\n",
    "        frames.extend(y_spec)\n",
    "            \n",
    "    frames = np.array(frames)\n",
    "    return frames\n",
    "\n"
   ]
  },
  {
   "cell_type": "markdown",
   "metadata": {},
   "source": [
    "### K-MEANS"
   ]
  },
  {
   "cell_type": "code",
   "execution_count": 3,
   "metadata": {},
   "outputs": [],
   "source": [
    "class KMeans:\n",
    "    def __init__(self, n_clusters=2, max_iter=1000):\n",
    "        self.n_clusters = n_clusters\n",
    "        self.max_iter = max_iter\n",
    "        self.centers = None\n",
    "        \n",
    "    def dist(self, data_points, center):\n",
    "        return np.sqrt(np.sum((data_points - center) ** 2, axis=1))\n",
    "        \n",
    "    def fit(self, data):\n",
    "        # get initial centers from the samples itself.\n",
    "        # better initializations are also available - have a look at kmeans++\n",
    "        self.centers = data[\n",
    "            np.random.choice(np.arange(len(data)), size=self.n_clusters)\n",
    "        ]\n",
    "        \n",
    "        # kmeans algorithm\n",
    "        for _ in range(self.max_iter):\n",
    "            dist_matrix = np.zeros((len(data), self.n_clusters))\n",
    "            for i in  range(self.n_clusters):\n",
    "                dist_matrix[:, i] = self.dist(data, self.centers[i])\n",
    "            cluster_assignment = dist_matrix.argmin(axis=1)\n",
    "            # find new centers\n",
    "            new_centers = np.zeros_like(self.centers)\n",
    "            for i in range(self.n_clusters):\n",
    "                new_centers[i] = np.mean(data[cluster_assignment == i], axis=0)\n",
    "            # break if we have converged\n",
    "            if np.allclose(new_centers, self.centers):\n",
    "                self.centers = new_centers\n",
    "                break\n",
    "            self.centers = new_centers\n",
    "        \n",
    "    def predict(self, data):\n",
    "        dist_matrix = np.zeros((len(data), self.n_clusters))\n",
    "        for i in range(self.n_clusters):\n",
    "            dist_matrix[:, i] = self.dist(data, self.centers[i])\n",
    "        cluster_assignment = dist_matrix.argmin(axis=1)\n",
    "        return cluster_assignment"
   ]
  },
  {
   "cell_type": "markdown",
   "metadata": {},
   "source": [
    "### GMM"
   ]
  },
  {
   "cell_type": "code",
   "execution_count": 4,
   "metadata": {},
   "outputs": [],
   "source": [
    "class GMM:\n",
    "    def __init__(\n",
    "        self, \n",
    "        n_mixtures=2, \n",
    "        max_iter=100, \n",
    "        covar_type='full', \n",
    "        plot_progress=False, \n",
    "        p_iter=5,\n",
    "        gif_name='EM_Progress.gif'\n",
    "    ):\n",
    "        self.n_mixtures = n_mixtures\n",
    "        self.max_iter = max_iter\n",
    "        self.alphas = np.ones(n_mixtures) / n_mixtures\n",
    "        self.means = None\n",
    "        self.covs = None\n",
    "        self.covar_type = covar_type\n",
    "        self.plot_progress = plot_progress\n",
    "        self.p_iter = p_iter\n",
    "        self.gif_name = gif_name\n",
    "        self.log_likelihood_plot_list = None\n",
    "        self.cluster_idx = None\n",
    "        \n",
    "    def p(self, data, mean, cov):\n",
    "        dist = multivariate_normal(mean=mean, cov=cov)\n",
    "        return dist.pdf(data)\n",
    "    \n",
    "    def predict(self, data):\n",
    "        posteriors = np.zeros((len(data), self.n_mixtures))\n",
    "        for i in range(self.n_mixtures):\n",
    "            posteriors[:, i] = self.alphas[i] * self.p(data, self.means[i], self.covs[i])\n",
    "        labels = np.argmax(posteriors, axis=1)\n",
    "        self.cluster_idx = labels\n",
    "        return labels\n",
    "    \n",
    "    def full_covar(self, data, resp):\n",
    "        new_covs = np.zeros_like(self.covs)\n",
    "        for i in range(self.n_mixtures):\n",
    "            diff = data - self.means[i]\n",
    "            new_covs[i] = np.dot(resp[:, i] * diff.T, diff) / resp[:, i].sum()\n",
    "            # regularization term to keep the covariance matrix positive semi-definite\n",
    "            new_covs[i].flat[::data.shape[1] + 1] += 1e-6\n",
    "        return new_covs\n",
    "            \n",
    "    def diag_covar(self, data, resp):\n",
    "        sqrd_data = np.dot(resp.T, data * data) / resp.sum(axis=0)[:, None]\n",
    "        sqrd_means = self.means ** 2\n",
    "        means = self.means * np.dot(resp.T, data) / resp.sum(axis=0)[:, None]\n",
    "        diag_covs = (sqrd_data - 2 * means + sqrd_means + 1e-6)\n",
    "        new_covs = [np.diag(cov) for cov in diag_covs]\n",
    "        return new_covs\n",
    "\n",
    "    def get_log_likelihood(self, data):\n",
    "        probs = np.zeros((len(data), self.n_mixtures))\n",
    "        for i in range(self.n_mixtures):\n",
    "            probs[:, i] = self.alphas[i] * self.p(data, self.means[i], self.covs[i])\n",
    "\n",
    "        ll_hood = np.sum(np.log(probs.sum(axis=1)))\n",
    "\n",
    "        return ll_hood\n",
    "    \n",
    "    def e_step(self, data):\n",
    "        resp = np.zeros((len(data), self.n_mixtures))\n",
    "        # find responsibility of each data point towards a Gaussian\n",
    "        for i in range(self.n_mixtures):\n",
    "            resp[:, i] = self.alphas[i] * self.p(data, self.means[i], self.covs[i])\n",
    "            \n",
    "        self.log_likelihood_plot_list.append(np.sum(np.log(resp.sum(axis=1)))) \n",
    "        # normalize the sum\n",
    "        resp = resp / resp.sum(axis=1)[:, None]\n",
    "        return resp\n",
    "        \n",
    "    def m_step(self, data, resp):        \n",
    "        # re-estimation for alphas\n",
    "        new_alphas = resp.mean(axis=0)\n",
    "        \n",
    "        # re-estimation for means\n",
    "        new_means = np.zeros_like(self.means)\n",
    "        for i in range(self.n_mixtures):\n",
    "            new_means[i] = np.multiply(resp[:, i][:, None], data).sum(axis=0) / resp[:, i].sum()\n",
    "        \n",
    "        # re-estimation for covariance matrix\n",
    "        if self.covar_type == 'full':\n",
    "            new_covs = self.full_covar(data, resp)\n",
    "        elif self.covar_type == 'diag':\n",
    "            new_covs = self.diag_covar(data, resp)\n",
    "        else:\n",
    "            raise NotImplementedError()\n",
    "            \n",
    "        return new_alphas, new_means, new_covs\n",
    "    \n",
    "    def plot_creator(self, data):\n",
    "        labels = self.predict(data)\n",
    "        \n",
    "        # create figure\n",
    "        fig = Figure(figsize=(10, 8))\n",
    "        canvas = FigureCanvas(fig)\n",
    "        ax = fig.add_subplot(111)\n",
    "        for i in range(self.n_mixtures):\n",
    "            ax.scatter(data[:,0][labels == i], data[:, 1][labels == i], s=12, label='GMM-'+str(i))\n",
    "        ax.set_xlabel('comp-1')\n",
    "        ax.set_ylabel('comp-2')\n",
    "        ax.set_title('Progress of EM Algorithm')\n",
    "        ax.legend()\n",
    "        fig.dpi = 200\n",
    "        canvas.draw()\n",
    "        image = np.asarray(canvas.buffer_rgba())\n",
    "        return image\n",
    "        \n",
    "        \n",
    "    def fit(self, data):\n",
    "        n_features = data.shape[1]\n",
    "        # intialize empty lists to store images and \n",
    "        # progress of EM algorithm per step\n",
    "        progress_images = []\n",
    "        self.log_likelihood_plot_list = []\n",
    "        \n",
    "        # initialize means\n",
    "        kmeans_model = KMeans(n_clusters=self.n_mixtures)\n",
    "        kmeans_model.fit(data)\n",
    "        self.means = kmeans_model.centers\n",
    "        \n",
    "        # initialize cov\n",
    "        self.covs = np.zeros((self.n_mixtures, n_features, n_features))\n",
    "        data_labels = kmeans_model.predict(data)\n",
    "        for i in range(self.n_mixtures):\n",
    "            self.covs[i] = np.cov(data[data_labels == i].T)\n",
    "        \n",
    "        # EM - algorithm\n",
    "        for step in range(self.max_iter):\n",
    "            # for each data point find its responsibility\n",
    "            # towards each gaussian\n",
    "            resp = self.e_step(data)\n",
    "            \n",
    "            # re-estimation of model parameters\n",
    "            alphas, means, covs = self.m_step(data, resp)\n",
    "            \n",
    "            # display progress after every 5 iterations\n",
    "            if step % self.p_iter == 0 and self.plot_progress:\n",
    "                progress_images.append(self.plot_creator(data))\n",
    "            \n",
    "            # break if convergence\n",
    "            if np.allclose(self.alphas, alphas, rtol=1e-3, atol=1e-3) and \\\n",
    "               np.allclose(self.means, means, rtol=1e-3, atol=1e-3) and \\\n",
    "               np.allclose(self.covs, covs, rtol=1e-3, atol=1e-3):\n",
    "               print('Converged after {}-th step'.format(step))\n",
    "               break\n",
    "                \n",
    "            self.alphas = alphas\n",
    "            self.means = means\n",
    "            self.covs = covs\n",
    "        \n",
    "        self.log_likelihood_plot_list = self.log_likelihood_plot_list[1:]\n",
    "        \n",
    "        if self.plot_progress: \n",
    "            imageio.mimsave(self.gif_name, progress_images)\n",
    "            "
   ]
  },
  {
   "cell_type": "markdown",
   "metadata": {},
   "source": [
    "### Load train files and extract the feature vectors"
   ]
  },
  {
   "cell_type": "code",
   "execution_count": 5,
   "metadata": {},
   "outputs": [
    {
     "name": "stdout",
     "output_type": "stream",
     "text": [
      "music_frames: (119920, 32)\n",
      "speech_frames: (119920, 32)\n"
     ]
    }
   ],
   "source": [
    "# Put your own paths for train/music and train/speech dirs\n",
    "\n",
    "music_train_path = './speech_music_classification/train/music/'\n",
    "speech_train_path  = './speech_music_classification/train/speech/'\n",
    "\n",
    "music_frames = get_spec_frames(music_train_path)\n",
    "print('music_frames:', music_frames.shape)\n",
    "speech_frames = get_spec_frames(speech_train_path)\n",
    "print('speech_frames:',speech_frames.shape)\n",
    "\n"
   ]
  },
  {
   "cell_type": "markdown",
   "metadata": {},
   "source": [
    "## Train GMM for each class"
   ]
  },
  {
   "cell_type": "code",
   "execution_count": 6,
   "metadata": {},
   "outputs": [],
   "source": [
    "# Put the number of mixture components and covrariance matrix type: {'diag','full'} here. \n",
    "\n",
    "num_components = 2\n",
    "covar_type = 'diag'"
   ]
  },
  {
   "cell_type": "markdown",
   "metadata": {},
   "source": [
    "#### Fit Music data"
   ]
  },
  {
   "cell_type": "code",
   "execution_count": 7,
   "metadata": {},
   "outputs": [
    {
     "name": "stdout",
     "output_type": "stream",
     "text": [
      "Converged after 9-th step\n"
     ]
    }
   ],
   "source": [
    "\n",
    "music_model = GMM(n_mixtures=num_components, covar_type=covar_type) \n",
    "music_model.fit(music_frames)\n",
    "\n"
   ]
  },
  {
   "cell_type": "code",
   "execution_count": 8,
   "metadata": {},
   "outputs": [
    {
     "data": {
      "text/plain": [
       "Text(0.5, 1.0, 'Log-likelihood')"
      ]
     },
     "execution_count": 8,
     "metadata": {},
     "output_type": "execute_result"
    },
    {
     "data": {
      "image/png": "[encoded data removed]",
      "text/plain": [
       "<Figure size 432x288 with 1 Axes>"
      ]
     },
     "metadata": {
      "needs_background": "light"
     },
     "output_type": "display_data"
    }
   ],
   "source": [
    "# Plot the log likelihood for music model\n",
    "plt.plot(music_model.log_likelihood_plot_list)\n",
    "plt.xlabel('#iterations')\n",
    "plt.title('Log-likelihood')"
   ]
  },
  {
   "cell_type": "markdown",
   "metadata": {},
   "source": [
    "#### Fit speech data "
   ]
  },
  {
   "cell_type": "code",
   "execution_count": 9,
   "metadata": {},
   "outputs": [
    {
     "name": "stdout",
     "output_type": "stream",
     "text": [
      "Converged after 8-th step\n"
     ]
    }
   ],
   "source": [
    "speech_model = GMM(n_mixtures=num_components, covar_type=covar_type)\n",
    "speech_model.fit(speech_frames)\n"
   ]
  },
  {
   "cell_type": "code",
   "execution_count": 10,
   "metadata": {},
   "outputs": [
    {
     "data": {
      "text/plain": [
       "Text(0.5, 1.0, 'Log-likelihood')"
      ]
     },
     "execution_count": 10,
     "metadata": {},
     "output_type": "execute_result"
    },
    {
     "data": {
      "image/png": "[encoded data removed]",
      "text/plain": [
       "<Figure size 432x288 with 1 Axes>"
      ]
     },
     "metadata": {
      "needs_background": "light"
     },
     "output_type": "display_data"
    }
   ],
   "source": [
    "# Plot the log likelihood for speech model\n",
    "plt.plot(speech_model.log_likelihood_plot_list)\n",
    "plt.xlabel('#iterations')\n",
    "plt.title('Log-likelihood')"
   ]
  },
  {
   "cell_type": "code",
   "execution_count": null,
   "metadata": {},
   "outputs": [],
   "source": []
  },
  {
   "cell_type": "markdown",
   "metadata": {},
   "source": [
    "## Testing\n",
    "#### Load the test files and generate labels"
   ]
  },
  {
   "cell_type": "code",
   "execution_count": 11,
   "metadata": {},
   "outputs": [
    {
     "name": "stdout",
     "output_type": "stream",
     "text": [
      "First few test files:\n",
      "\n",
      " ['./speech_music_classification/test/speech_2.wav', './speech_music_classification/test/speech_15.wav', './speech_music_classification/test/music_12.wav', './speech_music_classification/test/speech_7.wav', './speech_music_classification/test/music_2.wav', './speech_music_classification/test/speech_19.wav', './speech_music_classification/test/speech_8.wav', './speech_music_classification/test/speech_5.wav', './speech_music_classification/test/music_23.wav', './speech_music_classification/test/speech_20.wav'] \n",
      "\n",
      "\n",
      "First few test labels:\n",
      "\n",
      " [0, 0, 1, 0, 1, 0, 0, 0, 1, 0]\n"
     ]
    }
   ],
   "source": [
    "test_path = './speech_music_classification/test/'\n",
    "label_dict = {'speech':0, 'music':1}\n",
    "\n",
    "test_labels = []\n",
    "test_dir_list = glob.glob(test_path + '*.wav')\n",
    "for i in range(len(test_dir_list)):\n",
    "    f = test_dir_list[i]\n",
    "    label_str = f.split('/')[-1].split('_')[0]\n",
    "    test_labels.append(label_dict[label_str])\n",
    "\n",
    "print('First few test files:\\n\\n', test_dir_list[0:40:4],'\\n\\n')\n",
    "print('First few test labels:\\n\\n', test_labels[0:40:4])\n"
   ]
  },
  {
   "cell_type": "code",
   "execution_count": 12,
   "metadata": {},
   "outputs": [],
   "source": [
    "# predict\n",
    "\n",
    "pred_labels = []\n",
    "for i in range(len(test_dir_list)):\n",
    "\n",
    "    y,sr = librosa.load(test_dir_list[i], sr=None)\n",
    "    y_spec = spectrogram(y)\n",
    "    #print(y_spec.shape)\n",
    "\n",
    "    ll_speech = speech_model.get_log_likelihood(y_spec)\n",
    "    ll_music = music_model.get_log_likelihood(y_spec)\n",
    "    pred_label = 0 if ll_speech > ll_music else 1\n",
    "    pred_labels.append(pred_label)\n",
    "\n",
    "test_labels = np.array(test_labels)\n",
    "pred_labels = np.array(pred_labels)"
   ]
  },
  {
   "cell_type": "code",
   "execution_count": 13,
   "metadata": {},
   "outputs": [
    {
     "name": "stdout",
     "output_type": "stream",
     "text": [
      "Number of correctly classified examples: 43, out of 48 test samples\n",
      "error rate:  10.416666666666671\n"
     ]
    }
   ],
   "source": [
    "# Calculate error rate\n",
    "\n",
    "correct = (test_labels == pred_labels).sum()\n",
    "print('Number of correctly classified examples: {}, out of {} test samples'.format(correct, len(test_dir_list)))\n",
    "accuracy = 100. * correct / len(test_dir_list)\n",
    "print('error rate: ', 100 - accuracy)"
   ]
  },
  {
   "cell_type": "markdown",
   "metadata": {},
   "source": [
    "### Observations:\n",
    "#### a) As number of mixture components increases, the mixture of Gaussians better approximates the data distribution. So we see decrease in error rate. \n",
    "#### b) Adjacent samples of speech and music signals are very much correlated. These correlations manifest themselves as varying maginitude spectrum of the windowed signal. Diagonal covariance matrix can't capture these relations among the feature components. Thus a higher error rate. "
   ]
  },
  {
   "cell_type": "markdown",
   "metadata": {},
   "source": [
    "### Note:\n",
    "#### Here the classification is done based on log-likelihood of the spectrogram assuming its feature frames are independently drawn. Another criteria would be to use majority count over predicted labels of the feature vectors. \n",
    " "
   ]
  }
 ],
 "metadata": {
  "kernelspec": {
   "display_name": "Python 3",
   "language": "python",
   "name": "python3"
  },
  "language_info": {
   "codemirror_mode": {
    "name": "ipython",
    "version": 3
   },
   "file_extension": ".py",
   "mimetype": "text/x-python",
   "name": "python",
   "nbconvert_exporter": "python",
   "pygments_lexer": "ipython3",
   "version": "3.8.3"
  }
 },
 "nbformat": 4,
 "nbformat_minor": 2
}
